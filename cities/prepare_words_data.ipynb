{
 "cells": [
  {
   "cell_type": "code",
   "execution_count": 86,
   "metadata": {},
   "outputs": [],
   "source": [
    "import pandas as pd\n",
    "import numpy as np"
   ]
  },
  {
   "cell_type": "code",
   "execution_count": 87,
   "metadata": {},
   "outputs": [
    {
     "data": {
      "text/html": [
       "<div>\n",
       "<style scoped>\n",
       "    .dataframe tbody tr th:only-of-type {\n",
       "        vertical-align: middle;\n",
       "    }\n",
       "\n",
       "    .dataframe tbody tr th {\n",
       "        vertical-align: top;\n",
       "    }\n",
       "\n",
       "    .dataframe thead th {\n",
       "        text-align: right;\n",
       "    }\n",
       "</style>\n",
       "<table border=\"1\" class=\"dataframe\">\n",
       "  <thead>\n",
       "    <tr style=\"text-align: right;\">\n",
       "      <th></th>\n",
       "      <th>city_id</th>\n",
       "      <th>country_id</th>\n",
       "      <th>region_id</th>\n",
       "      <th>name</th>\n",
       "    </tr>\n",
       "  </thead>\n",
       "  <tbody>\n",
       "    <tr>\n",
       "      <th>0</th>\n",
       "      <td>4400</td>\n",
       "      <td>3159</td>\n",
       "      <td>4312</td>\n",
       "      <td>Москва</td>\n",
       "    </tr>\n",
       "    <tr>\n",
       "      <th>1</th>\n",
       "      <td>4313</td>\n",
       "      <td>3159</td>\n",
       "      <td>4312</td>\n",
       "      <td>Абрамцево</td>\n",
       "    </tr>\n",
       "    <tr>\n",
       "      <th>2</th>\n",
       "      <td>4314</td>\n",
       "      <td>3159</td>\n",
       "      <td>4312</td>\n",
       "      <td>Алабино</td>\n",
       "    </tr>\n",
       "    <tr>\n",
       "      <th>3</th>\n",
       "      <td>4315</td>\n",
       "      <td>3159</td>\n",
       "      <td>4312</td>\n",
       "      <td>Апрелевка</td>\n",
       "    </tr>\n",
       "    <tr>\n",
       "      <th>4</th>\n",
       "      <td>4316</td>\n",
       "      <td>3159</td>\n",
       "      <td>4312</td>\n",
       "      <td>Архангельское</td>\n",
       "    </tr>\n",
       "  </tbody>\n",
       "</table>\n",
       "</div>"
      ],
      "text/plain": [
       "   city_id  country_id  region_id           name\n",
       "0     4400        3159       4312         Москва\n",
       "1     4313        3159       4312      Абрамцево\n",
       "2     4314        3159       4312        Алабино\n",
       "3     4315        3159       4312      Апрелевка\n",
       "4     4316        3159       4312  Архангельское"
      ]
     },
     "execution_count": 87,
     "metadata": {},
     "output_type": "execute_result"
    }
   ],
   "source": [
    "raw_data = pd.read_csv('city.csv', sep=';', encoding='cp1251')\n",
    "raw_data.head()"
   ]
  },
  {
   "cell_type": "code",
   "execution_count": 88,
   "metadata": {},
   "outputs": [],
   "source": [
    "data = raw_data.iloc[:,3].values"
   ]
  },
  {
   "cell_type": "code",
   "execution_count": 89,
   "metadata": {},
   "outputs": [],
   "source": [
    "dic = {}\n",
    "for val in data:\n",
    "    val = val.split('(')[0].strip()\n",
    "    val = val[0].upper() + val[1:]\n",
    "    if 64 < ord(val[0]) < 91 or 'о.' in val:\n",
    "        continue\n",
    "    dic[val[0]] = dic.get(val[0], [])\n",
    "    dic[val[0]].append(val)"
   ]
  },
  {
   "cell_type": "code",
   "execution_count": 83,
   "metadata": {},
   "outputs": [],
   "source": [
    "from random import randint\n",
    "\n",
    "alfa = 'АБВГДЕЖЗИЙКЛМНОПРСТУФХЦЧШЩЭЮЯ'\n",
    "\n",
    "\n",
    "def game(l=5):\n",
    "    dic_st = {key:dic[key][:] for key in dic}\n",
    "    ch = alfa[randint(0, len(alfa)-1)]\n",
    "    words = []\n",
    "    for i in range(l):\n",
    "        arr = dic_st[ch]\n",
    "        inx = randint(0, len(arr)-1)\n",
    "        word = arr[inx]\n",
    "        words.append(word)\n",
    "        del arr[inx]\n",
    "        i = -1\n",
    "        while word[i].upper() not in alfa:\n",
    "            i -= 1\n",
    "        ch = word[i].upper()\n",
    "    return f'<s>Играв в слова: {\" \".join(words)}</s>\\n'\n",
    "    "
   ]
  },
  {
   "cell_type": "code",
   "execution_count": 90,
   "metadata": {},
   "outputs": [],
   "source": [
    "with open('words_train.txt', 'bw') as f:\n",
    "    for _ in range(10000):\n",
    "        f.write(game(randint(10, 15)).encode('UTF-8'))\n",
    "        \n",
    "with open('words_valid.txt', 'bw') as f:\n",
    "    for _ in range(1000):\n",
    "        f.write(game(randint(10, 15)).encode('UTF-8'))"
   ]
  },
  {
   "cell_type": "code",
   "execution_count": null,
   "metadata": {},
   "outputs": [],
   "source": []
  }
 ],
 "metadata": {
  "kernelspec": {
   "display_name": "Python 3",
   "language": "python",
   "name": "python3"
  },
  "language_info": {
   "codemirror_mode": {
    "name": "ipython",
    "version": 3
   },
   "file_extension": ".py",
   "mimetype": "text/x-python",
   "name": "python",
   "nbconvert_exporter": "python",
   "pygments_lexer": "ipython3",
   "version": "3.7.6"
  }
 },
 "nbformat": 4,
 "nbformat_minor": 4
}
