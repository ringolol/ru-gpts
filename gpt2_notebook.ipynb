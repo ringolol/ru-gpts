{
 "cells": [
  {
   "cell_type": "code",
   "execution_count": 1,
   "metadata": {},
   "outputs": [],
   "source": [
    "# python gpt2_translate.py ^\n",
    "#     --model_type=gpt2 ^\n",
    "#     --model_name_or_path=sberbank-ai/rugpt2large ^\n",
    "#     --k=5 ^\n",
    "#     --p=0.95 ^\n",
    "#     --length=50"
   ]
  },
  {
   "cell_type": "code",
   "execution_count": 2,
   "metadata": {},
   "outputs": [],
   "source": [
    "import sys\n",
    "from gpt2_translate import main"
   ]
  },
  {
   "cell_type": "code",
   "execution_count": 3,
   "metadata": {},
   "outputs": [],
   "source": [
    "filename = 'gpt2_translate.py'\n",
    "sys.argv = [\n",
    "    filename, \n",
    "    '--model_type=gpt2',\n",
    "    '--model_name_or_path=sberbank-ai/rugpt3large_based_on_gpt2',\n",
    "#     '--model_name_or_path=sberbank-ai/rugpt2large', \n",
    "    '--k=5', \n",
    "    '--p=0.95', \n",
    "    '--length=200'\n",
    "]"
   ]
  },
  {
   "cell_type": "code",
   "execution_count": 3,
   "metadata": {},
   "outputs": [],
   "source": [
    "# перевод с английского\n",
    "init_context = \\\n",
    "'''Сегодня я помогал моей подруге с переводом с английского на русский, вот как это было: \n",
    "Она: The monkey is on the tree.\n",
    "Я: Мартышка на дереве.\n",
    "Она: My aunt's pen is on the table.\n",
    "Я: Ручка моей тёти на столе.\n",
    "Она: I am from France.\n",
    "Я: Я из Франции.\n",
    "'''\n",
    "prompt_pattern = 'Она: {0}\\nЯ: '"
   ]
  },
  {
   "cell_type": "code",
   "execution_count": 4,
   "metadata": {},
   "outputs": [],
   "source": [
    "# перевод с немецкого (не робит)\n",
    "init_context = \\\n",
    "'''Сегодня я помогал моей подруге с переводом с немецкого языка на русский язык, вот как это было: \n",
    "Она: Es hat sich herausgestellt, dass ich die Natur liebe.\n",
    "Я: Выходит, что я люблю природу.\n",
    "Она: Ich möchte einen Kaffee.\n",
    "Я: Я хочу кофе.\n",
    "Она: Ich komme aus Deutschland.\n",
    "Я: Я приехал из Германии.\n",
    "'''\n",
    "prompt_pattern = 'Она: {0}\\nЯ: '"
   ]
  },
  {
   "cell_type": "code",
   "execution_count": 4,
   "metadata": {},
   "outputs": [],
   "source": [
    "# перевод на английский\n",
    "init_context = \\\n",
    "'''Сегодня я помог моей подруге с переводом с русского языка на английский язык, вот как это было: \n",
    "Она: Мартышка на дереве.\n",
    "Я: The monkey is on the tree.\n",
    "Она: Ручка моей тёти на столе.\n",
    "Я: My aunt's pen is on the table.\n",
    "Она: Я из Франции.\n",
    "Я: I am from France.\n",
    "'''\n",
    "prompt_pattern = 'Она: {0}\\nЯ: '"
   ]
  },
  {
   "cell_type": "code",
   "execution_count": 4,
   "metadata": {},
   "outputs": [],
   "source": [
    "# на юридическтй язык (не робит)\n",
    "init_context = \\\n",
    "'''Сегодня я помог моему другу с переводом юридического языка, вот как это было: \n",
    "Он: РБК допустил просрочку исполнения обязательства.\n",
    "Я: РБК просрочил обязательство.\n",
    "Он: Объект жилой недвижимости.\n",
    "Я: Дом.\n",
    "Он: Согласно ст. 309 ГК РФ обязательства должны исполняться надлежащим образом в соответствии с условиями обязательства и требованиями закона, иных правовых актов, а при отсутствии таких условий и требований - в соответствии с обычаями делового оборота или иными обычно предъявляемыми требованиями.\n",
    "Я: Обязательства должны быть выполнены в соответствии с их условиями и законом.\n",
    "Он: Однако во время эксплуатации автотранспортного средства, обслуживающей организацией выявлены недостатки, не позволившие его эксплуатировать в соответствии с заявленными при продаже параметрам.\n",
    "Я: Обслуживающая организация выявила неисправности, не соответствует состоянию автомобиля при продаже и не позволяющие его эксплуатировать.\n",
    "Он: В соответствии с п. 2.3. Договора Заказчик обязан оплатить выполненные работы в течение пяти рабочих дней с момента подписания акта сдачи-приёмки работ.\n",
    "Я: В соответствии договором заказчик должен оплатить услуги в течении пяти рабочих дней.\n",
    "Он: Если в указанные выше сроки договор о возмещении расходов по оплате электроэнергии подписан не будет, а образовавшаяся задолженность не будет погашена, мы будем вынуждены прекратить предоставление услуг по подаче электроэнергии.\n",
    "Я: Если вы не подпишите договор о возмещении расходов или не оплатите задолжность в срок, то мы прекратим поставку электроэнергии.\n",
    "Он: Ст. 310 ГК РФ предусмотрено, что односторонний отказ от исполнения обязательства и одностороннее изменение его условий не допускаются, за исключением случаев, предусмотренных законом.\n",
    "Я: Запрещено односторонне отказываться или менять условия обязательства, за исключением случаев, предусмотренных законом.\n",
    "'''\n",
    "prompt_pattern = 'Он: {0}\\nЯ: '\n",
    "\n",
    "'''\n",
    "Согласно ст. 309 ГК РФ обязательства должны исполняться надлежащим образом в соответствии с условиями обязательства и требованиями закона, иных правовых актов, а при отсутствии таких условий и требований - в соответствии с обычаями делового оборота или иными обычно предъявляемыми требованиями.\n",
    "\n",
    "Ст. 310 ГК РФ предусмотрено, что односторонний отказ от исполнения обязательства и одностороннее изменение его условий не допускаются, за исключением случаев, предусмотренных законом.\n",
    "\n",
    "Таким образом, в соответствии с Договором и приведенными нормами ГК РФ Заёмщик должен вернуть Займодавцу денежную сумму по Договору в полном объёме.\n",
    "\n",
    "С 01 апреля 2014 года по 09 июля 2014 года находился в очередном отпуске (включая неиспользованные отпуска за предыдущие периоды). В период нахождения в отпуске находился на амбулаторном лечении.\n",
    "'''"
   ]
  },
  {
   "cell_type": "code",
   "execution_count": 5,
   "metadata": {},
   "outputs": [
    {
     "name": "stderr",
     "output_type": "stream",
     "text": [
      "10/30/2020 20:04:00 - INFO - transformers.tokenization_utils -   Model name 'sberbank-ai/rugpt2large' not found in model shortcut name list (gpt2, gpt2-medium, gpt2-large, gpt2-xl, distilgpt2). Assuming 'sberbank-ai/rugpt2large' is a path, a model identifier, or url to a directory containing tokenizer files.\n",
      "10/30/2020 20:04:02 - INFO - transformers.tokenization_utils -   loading file https://s3.amazonaws.com/models.huggingface.co/bert/sberbank-ai/rugpt2large/vocab.json from cache at C:\\Users\\creat\\.cache\\torch\\transformers\\ba2888ddb6f07cdd28e5cb9df3ed913d9e929b8f8e6ab2fd59ffb7ead8c0ffc8.5847c449789980ba850c12e0df490602c484adfcfe890ecba9d00ade4afba5b5\n",
      "10/30/2020 20:04:02 - INFO - transformers.tokenization_utils -   loading file https://s3.amazonaws.com/models.huggingface.co/bert/sberbank-ai/rugpt2large/merges.txt from cache at C:\\Users\\creat\\.cache\\torch\\transformers\\3304d3c2dfdfef22675c1085dc645d0f50eacc71446166568c783f5b69edc0a2.0a0d13e4aed4c82b094b98bea2a2af670a5ca028841511a708f78aefbccdaac9\n",
      "10/30/2020 20:04:02 - INFO - transformers.tokenization_utils -   loading file https://s3.amazonaws.com/models.huggingface.co/bert/sberbank-ai/rugpt2large/added_tokens.json from cache at None\n",
      "10/30/2020 20:04:02 - INFO - transformers.tokenization_utils -   loading file https://s3.amazonaws.com/models.huggingface.co/bert/sberbank-ai/rugpt2large/special_tokens_map.json from cache at None\n",
      "10/30/2020 20:04:02 - INFO - transformers.tokenization_utils -   loading file https://s3.amazonaws.com/models.huggingface.co/bert/sberbank-ai/rugpt2large/tokenizer_config.json from cache at None\n",
      "10/30/2020 20:04:03 - INFO - transformers.configuration_utils -   loading configuration file https://s3.amazonaws.com/models.huggingface.co/bert/sberbank-ai/rugpt2large/config.json from cache at C:\\Users\\creat\\.cache\\torch\\transformers\\ebe6992d0dca023ae6f51f91bf62ac9c23b25b6124d1ddd58b8bb2598a2da179.4b32e824394ba7bdd31d25b3d7541494f70fdb32554caf4178cd9ae8017976cc\n",
      "10/30/2020 20:04:03 - INFO - transformers.configuration_utils -   Model config GPT2Config {\n",
      "  \"_num_labels\": 1,\n",
      "  \"activation_function\": \"gelu_new\",\n",
      "  \"architectures\": null,\n",
      "  \"attn_pdrop\": 0.1,\n",
      "  \"bad_words_ids\": null,\n",
      "  \"bos_token_id\": 50256,\n",
      "  \"decoder_start_token_id\": null,\n",
      "  \"do_sample\": false,\n",
      "  \"early_stopping\": false,\n",
      "  \"embd_pdrop\": 0.1,\n",
      "  \"eos_token_id\": 50256,\n",
      "  \"finetuning_task\": null,\n",
      "  \"id2label\": {\n",
      "    \"0\": \"LABEL_0\"\n",
      "  },\n",
      "  \"initializer_range\": 0.02,\n",
      "  \"is_decoder\": false,\n",
      "  \"is_encoder_decoder\": false,\n",
      "  \"label2id\": {\n",
      "    \"LABEL_0\": 0\n",
      "  },\n",
      "  \"layer_norm_epsilon\": 1e-05,\n",
      "  \"length_penalty\": 1.0,\n",
      "  \"max_length\": 20,\n",
      "  \"min_length\": 0,\n",
      "  \"model_type\": \"gpt2\",\n",
      "  \"n_ctx\": 1024,\n",
      "  \"n_embd\": 1280,\n",
      "  \"n_head\": 20,\n",
      "  \"n_layer\": 36,\n",
      "  \"n_positions\": 1024,\n",
      "  \"no_repeat_ngram_size\": 0,\n",
      "  \"num_beams\": 1,\n",
      "  \"num_return_sequences\": 1,\n",
      "  \"output_attentions\": false,\n",
      "  \"output_hidden_states\": false,\n",
      "  \"output_past\": true,\n",
      "  \"pad_token_id\": null,\n",
      "  \"prefix\": null,\n",
      "  \"pruned_heads\": {},\n",
      "  \"repetition_penalty\": 1.0,\n",
      "  \"resid_pdrop\": 0.1,\n",
      "  \"summary_activation\": null,\n",
      "  \"summary_first_dropout\": 0.1,\n",
      "  \"summary_proj_to_labels\": true,\n",
      "  \"summary_type\": \"cls_index\",\n",
      "  \"summary_use_proj\": true,\n",
      "  \"task_specific_params\": null,\n",
      "  \"temperature\": 1.0,\n",
      "  \"top_k\": 50,\n",
      "  \"top_p\": 1.0,\n",
      "  \"torchscript\": false,\n",
      "  \"use_bfloat16\": false,\n",
      "  \"vocab_size\": 50257\n",
      "}\n",
      "\n",
      "10/30/2020 20:04:04 - INFO - transformers.modeling_utils -   loading weights file https://s3.amazonaws.com/models.huggingface.co/bert/sberbank-ai/rugpt2large/pytorch_model.bin from cache at C:\\Users\\creat\\.cache\\torch\\transformers\\088a34e443bf39a7590b4372e89e7df6f02997b93b7ca17528d23f965e0446ca.644b0efd6b7aabe0d6f0167aa9a59bf04950a003c8532f2afcefd1a28f7b535b\n",
      "10/30/2020 20:05:31 - INFO - transformers.modeling_utils -   Weights from pretrained model not used in GPT2LMHeadModel: ['transformer.h.0.attn.masked_bias', 'transformer.h.1.attn.masked_bias', 'transformer.h.2.attn.masked_bias', 'transformer.h.3.attn.masked_bias', 'transformer.h.4.attn.masked_bias', 'transformer.h.5.attn.masked_bias', 'transformer.h.6.attn.masked_bias', 'transformer.h.7.attn.masked_bias', 'transformer.h.8.attn.masked_bias', 'transformer.h.9.attn.masked_bias', 'transformer.h.10.attn.masked_bias', 'transformer.h.11.attn.masked_bias', 'transformer.h.12.attn.masked_bias', 'transformer.h.13.attn.masked_bias', 'transformer.h.14.attn.masked_bias', 'transformer.h.15.attn.masked_bias', 'transformer.h.16.attn.masked_bias', 'transformer.h.17.attn.masked_bias', 'transformer.h.18.attn.masked_bias', 'transformer.h.19.attn.masked_bias', 'transformer.h.20.attn.masked_bias', 'transformer.h.21.attn.masked_bias', 'transformer.h.22.attn.masked_bias', 'transformer.h.23.attn.masked_bias', 'transformer.h.24.attn.masked_bias', 'transformer.h.25.attn.masked_bias', 'transformer.h.26.attn.masked_bias', 'transformer.h.27.attn.masked_bias', 'transformer.h.28.attn.masked_bias', 'transformer.h.29.attn.masked_bias', 'transformer.h.30.attn.masked_bias', 'transformer.h.31.attn.masked_bias', 'transformer.h.32.attn.masked_bias', 'transformer.h.33.attn.masked_bias', 'transformer.h.34.attn.masked_bias', 'transformer.h.35.attn.masked_bias']\n",
      "10/30/2020 20:05:36 - INFO - gpt2_translate -   Namespace(device=device(type='cuda'), k=5, length=200, model_name_or_path='sberbank-ai/rugpt2large', model_type='gpt2', n_gpu=1, no_cuda=False, num_return_sequences=1, p=0.95, padding_text='', prompt='', repetition_penalty=1.0, seed=42, stop_token='</s>', temperature=1.0, xlm_language='')\n"
     ]
    },
    {
     "name": "stdin",
     "output_type": "stream",
     "text": [
      "You >>>  Ich habe ein Haus.\n"
     ]
    },
    {
     "name": "stdout",
     "output_type": "stream",
     "text": [
      "Bot >>> У меня есть машина. Я живу в Германии.\n"
     ]
    },
    {
     "name": "stdin",
     "output_type": "stream",
     "text": [
      "You >>>  Ich esse gerne Äpfel.\n"
     ]
    },
    {
     "name": "stdout",
     "output_type": "stream",
     "text": [
      "Bot >>> Я люблю свою работу. Я люблю свою работу.\n"
     ]
    },
    {
     "name": "stdin",
     "output_type": "stream",
     "text": [
      "You >>>  stop\n"
     ]
    },
    {
     "name": "stdout",
     "output_type": "stream",
     "text": [
      "chat stopped!\n"
     ]
    }
   ],
   "source": [
    "dialog = main(init_context=init_context, prompt_pattern=prompt_pattern)"
   ]
  },
  {
   "cell_type": "code",
   "execution_count": 5,
   "metadata": {},
   "outputs": [
    {
     "name": "stdout",
     "output_type": "stream",
     "text": [
      "Сегодня я помогал моей подруге с переводом с русского на английский, вот как это было: \n",
      "Она: Мартышка на дереве.\n",
      "Я: The monkey is on the tree.\n",
      "Она: Ручка моей тёти на столе.\n",
      "Я: My aunt's pen is on the table.\n",
      "Она: Я из Франции.\n",
      "Я: I am from France.\n",
      "Она: Я люблю есть яблоки.\n",
      "Я: I am from France.\n",
      "Она: Я читаю книгу.\n",
      "Я: My book is reading the book.\n",
      "Она: Она рассказала, что это для её птицы.\n",
      "Я: She said that she was reading a book.\n",
      "\n"
     ]
    }
   ],
   "source": [
    "print(dialog)"
   ]
  },
  {
   "cell_type": "code",
   "execution_count": 5,
   "metadata": {},
   "outputs": [
    {
     "name": "stdout",
     "output_type": "stream",
     "text": [
      "Сегодня я помогал моей подруге с переводом с английского на русский, вот как это было: \n",
      "Она: The monkey is on the tree.\n",
      "Я: Мартышка на дереве.\n",
      "Она: My aunt's pen is on the table.\n",
      "Я: Ручка моей тёти на столе.\n",
      "Она: I am from France.\n",
      "Я: Я из Франции.\n",
      "Она: I like to eat apples.\n",
      "Я: Я люблю есть яблоки.\n",
      "Она: I feel sad today.\n",
      "Я: Сегодня я грустный.\n",
      "Она: I am reading a book.\n",
      "Я: Я читаю книгу.\n",
      "Она: Write this like an attorney.\n",
      "Я: Я пишу адвокатский текст.\n",
      "Она: Do you like oranges?\n",
      "Я: Я люблю и ирисы.\n",
      "Она: Your banana is soft and squishy.\n",
      "Я: Твоя банана мягкая и сладкая.\n",
      "Она: Now imagine you have a cat...\n",
      "Я: Теперь вообрази, что у тебя есть кот...\n",
      "Она: She explained that it was for her bird.\n",
      "Я: Она рассказала, что это для её птицы.\n",
      "Она: His house seems small beside mine.\n",
      "Я: Его дом кажется маленьким рядом с шахтой.\n",
      "Она: We could drive up to canyon lake.\n",
      "Я: Мы могли поехать в Каньон Озеро\n",
      "Она: My name is Valeriy, I am from Russia.\n",
      "Я: Моё имя - Вера, я из России.\n",
      "Она: Finally, I decided I wanted an ending.\n",
      "Я: Finally, I decided I wanted a tear.\n",
      "Она: It is too hard to translate.\n",
      "Я: Finally, I decided I wanted a tear.\n",
      "\n"
     ]
    }
   ],
   "source": [
    "print(dialog)"
   ]
  }
 ],
 "metadata": {
  "kernelspec": {
   "display_name": "Python 3",
   "language": "python",
   "name": "python3"
  },
  "language_info": {
   "codemirror_mode": {
    "name": "ipython",
    "version": 3
   },
   "file_extension": ".py",
   "mimetype": "text/x-python",
   "name": "python",
   "nbconvert_exporter": "python",
   "pygments_lexer": "ipython3",
   "version": "3.7.6"
  }
 },
 "nbformat": 4,
 "nbformat_minor": 4
}
