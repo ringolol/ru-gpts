{
 "cells": [
  {
   "cell_type": "code",
   "execution_count": 2,
   "metadata": {},
   "outputs": [],
   "source": [
    "# python gpt2_translate.py ^\n",
    "#     --model_type=gpt2 ^\n",
    "#     --model_name_or_path=sberbank-ai/rugpt2large ^\n",
    "#     --k=5 ^\n",
    "#     --p=0.95 ^\n",
    "#     --length=50"
   ]
  },
  {
   "cell_type": "code",
   "execution_count": 3,
   "metadata": {},
   "outputs": [],
   "source": [
    "import sys\n",
    "filename = 'gpt2_translate.py'\n",
    "sys.argv = [filename, '--model_type=gpt2', '--model_name_or_path=sberbank-ai/rugpt2large', '--k=5', '--p=0.95', '--length=50']"
   ]
  },
  {
   "cell_type": "code",
   "execution_count": 4,
   "metadata": {},
   "outputs": [],
   "source": [
    "from gpt2_translate import main\n",
    "\n",
    "init_context = \\\n",
    "'''Он: The monkey is on the tree.\n",
    "Она: Мартышка на дереве.\n",
    "Он: My aunt's pen is on the table.\n",
    "Она: Ручка моей тёти на столе.\n",
    "Он: I am from France.\n",
    "Она: Я из Франции.\n",
    "'''"
   ]
  },
  {
   "cell_type": "code",
   "execution_count": 5,
   "metadata": {},
   "outputs": [
    {
     "name": "stderr",
     "output_type": "stream",
     "text": [
      "10/28/2020 21:51:14 - INFO - transformers.tokenization_utils -   Model name 'sberbank-ai/rugpt2large' not found in model shortcut name list (gpt2, gpt2-medium, gpt2-large, gpt2-xl, distilgpt2). Assuming 'sberbank-ai/rugpt2large' is a path, a model identifier, or url to a directory containing tokenizer files.\n",
      "10/28/2020 21:51:17 - INFO - transformers.tokenization_utils -   loading file https://s3.amazonaws.com/models.huggingface.co/bert/sberbank-ai/rugpt2large/vocab.json from cache at C:\\Users\\creat\\.cache\\torch\\transformers\\ba2888ddb6f07cdd28e5cb9df3ed913d9e929b8f8e6ab2fd59ffb7ead8c0ffc8.5847c449789980ba850c12e0df490602c484adfcfe890ecba9d00ade4afba5b5\n",
      "10/28/2020 21:51:17 - INFO - transformers.tokenization_utils -   loading file https://s3.amazonaws.com/models.huggingface.co/bert/sberbank-ai/rugpt2large/merges.txt from cache at C:\\Users\\creat\\.cache\\torch\\transformers\\3304d3c2dfdfef22675c1085dc645d0f50eacc71446166568c783f5b69edc0a2.0a0d13e4aed4c82b094b98bea2a2af670a5ca028841511a708f78aefbccdaac9\n",
      "10/28/2020 21:51:17 - INFO - transformers.tokenization_utils -   loading file https://s3.amazonaws.com/models.huggingface.co/bert/sberbank-ai/rugpt2large/added_tokens.json from cache at None\n",
      "10/28/2020 21:51:17 - INFO - transformers.tokenization_utils -   loading file https://s3.amazonaws.com/models.huggingface.co/bert/sberbank-ai/rugpt2large/special_tokens_map.json from cache at None\n",
      "10/28/2020 21:51:17 - INFO - transformers.tokenization_utils -   loading file https://s3.amazonaws.com/models.huggingface.co/bert/sberbank-ai/rugpt2large/tokenizer_config.json from cache at None\n",
      "10/28/2020 21:51:17 - INFO - transformers.configuration_utils -   loading configuration file https://s3.amazonaws.com/models.huggingface.co/bert/sberbank-ai/rugpt2large/config.json from cache at C:\\Users\\creat\\.cache\\torch\\transformers\\ebe6992d0dca023ae6f51f91bf62ac9c23b25b6124d1ddd58b8bb2598a2da179.4b32e824394ba7bdd31d25b3d7541494f70fdb32554caf4178cd9ae8017976cc\n",
      "10/28/2020 21:51:17 - INFO - transformers.configuration_utils -   Model config GPT2Config {\n",
      "  \"_num_labels\": 1,\n",
      "  \"activation_function\": \"gelu_new\",\n",
      "  \"architectures\": null,\n",
      "  \"attn_pdrop\": 0.1,\n",
      "  \"bad_words_ids\": null,\n",
      "  \"bos_token_id\": 50256,\n",
      "  \"decoder_start_token_id\": null,\n",
      "  \"do_sample\": false,\n",
      "  \"early_stopping\": false,\n",
      "  \"embd_pdrop\": 0.1,\n",
      "  \"eos_token_id\": 50256,\n",
      "  \"finetuning_task\": null,\n",
      "  \"id2label\": {\n",
      "    \"0\": \"LABEL_0\"\n",
      "  },\n",
      "  \"initializer_range\": 0.02,\n",
      "  \"is_decoder\": false,\n",
      "  \"is_encoder_decoder\": false,\n",
      "  \"label2id\": {\n",
      "    \"LABEL_0\": 0\n",
      "  },\n",
      "  \"layer_norm_epsilon\": 1e-05,\n",
      "  \"length_penalty\": 1.0,\n",
      "  \"max_length\": 20,\n",
      "  \"min_length\": 0,\n",
      "  \"model_type\": \"gpt2\",\n",
      "  \"n_ctx\": 1024,\n",
      "  \"n_embd\": 1280,\n",
      "  \"n_head\": 20,\n",
      "  \"n_layer\": 36,\n",
      "  \"n_positions\": 1024,\n",
      "  \"no_repeat_ngram_size\": 0,\n",
      "  \"num_beams\": 1,\n",
      "  \"num_return_sequences\": 1,\n",
      "  \"output_attentions\": false,\n",
      "  \"output_hidden_states\": false,\n",
      "  \"output_past\": true,\n",
      "  \"pad_token_id\": null,\n",
      "  \"prefix\": null,\n",
      "  \"pruned_heads\": {},\n",
      "  \"repetition_penalty\": 1.0,\n",
      "  \"resid_pdrop\": 0.1,\n",
      "  \"summary_activation\": null,\n",
      "  \"summary_first_dropout\": 0.1,\n",
      "  \"summary_proj_to_labels\": true,\n",
      "  \"summary_type\": \"cls_index\",\n",
      "  \"summary_use_proj\": true,\n",
      "  \"task_specific_params\": null,\n",
      "  \"temperature\": 1.0,\n",
      "  \"top_k\": 50,\n",
      "  \"top_p\": 1.0,\n",
      "  \"torchscript\": false,\n",
      "  \"use_bfloat16\": false,\n",
      "  \"vocab_size\": 50257\n",
      "}\n",
      "\n",
      "10/28/2020 21:51:18 - INFO - transformers.modeling_utils -   loading weights file https://s3.amazonaws.com/models.huggingface.co/bert/sberbank-ai/rugpt2large/pytorch_model.bin from cache at C:\\Users\\creat\\.cache\\torch\\transformers\\088a34e443bf39a7590b4372e89e7df6f02997b93b7ca17528d23f965e0446ca.644b0efd6b7aabe0d6f0167aa9a59bf04950a003c8532f2afcefd1a28f7b535b\n",
      "10/28/2020 21:52:47 - INFO - transformers.modeling_utils -   Weights from pretrained model not used in GPT2LMHeadModel: ['transformer.h.0.attn.masked_bias', 'transformer.h.1.attn.masked_bias', 'transformer.h.2.attn.masked_bias', 'transformer.h.3.attn.masked_bias', 'transformer.h.4.attn.masked_bias', 'transformer.h.5.attn.masked_bias', 'transformer.h.6.attn.masked_bias', 'transformer.h.7.attn.masked_bias', 'transformer.h.8.attn.masked_bias', 'transformer.h.9.attn.masked_bias', 'transformer.h.10.attn.masked_bias', 'transformer.h.11.attn.masked_bias', 'transformer.h.12.attn.masked_bias', 'transformer.h.13.attn.masked_bias', 'transformer.h.14.attn.masked_bias', 'transformer.h.15.attn.masked_bias', 'transformer.h.16.attn.masked_bias', 'transformer.h.17.attn.masked_bias', 'transformer.h.18.attn.masked_bias', 'transformer.h.19.attn.masked_bias', 'transformer.h.20.attn.masked_bias', 'transformer.h.21.attn.masked_bias', 'transformer.h.22.attn.masked_bias', 'transformer.h.23.attn.masked_bias', 'transformer.h.24.attn.masked_bias', 'transformer.h.25.attn.masked_bias', 'transformer.h.26.attn.masked_bias', 'transformer.h.27.attn.masked_bias', 'transformer.h.28.attn.masked_bias', 'transformer.h.29.attn.masked_bias', 'transformer.h.30.attn.masked_bias', 'transformer.h.31.attn.masked_bias', 'transformer.h.32.attn.masked_bias', 'transformer.h.33.attn.masked_bias', 'transformer.h.34.attn.masked_bias', 'transformer.h.35.attn.masked_bias']\n",
      "10/28/2020 21:52:52 - INFO - gpt2_translate -   Namespace(device=device(type='cuda'), k=5, length=50, model_name_or_path='sberbank-ai/rugpt2large', model_type='gpt2', n_gpu=1, no_cuda=False, num_return_sequences=1, p=0.95, padding_text='', prompt='', repetition_penalty=1.0, seed=42, stop_token='</s>', temperature=1.0, xlm_language='')\n"
     ]
    },
    {
     "name": "stdin",
     "output_type": "stream",
     "text": [
      "You >>>  My name is Valeriy.\n"
     ]
    },
    {
     "name": "stdout",
     "output_type": "stream",
     "text": [
      "Bot >>> Моя фамилия Валерьян.\n"
     ]
    },
    {
     "name": "stdin",
     "output_type": "stream",
     "text": [
      "You >>>  I am from Saint-Petersburg, Russia.\n"
     ]
    },
    {
     "name": "stdout",
     "output_type": "stream",
     "text": [
      "Bot >>> I am from Russia.\n"
     ]
    },
    {
     "name": "stdin",
     "output_type": "stream",
     "text": [
      "You >>>  I like to eat apples.\n"
     ]
    },
    {
     "name": "stdout",
     "output_type": "stream",
     "text": [
      "Bot >>> Я люблю яблоки.\n"
     ]
    },
    {
     "name": "stdin",
     "output_type": "stream",
     "text": [
      "You >>>  Ich komme aus Deutchland.\n"
     ]
    },
    {
     "name": "stdout",
     "output_type": "stream",
     "text": [
      "Bot >>> Я люблю немцев.\n"
     ]
    },
    {
     "name": "stdin",
     "output_type": "stream",
     "text": [
      "You >>>  Who is the president of the United States?\n"
     ]
    },
    {
     "name": "stdout",
     "output_type": "stream",
     "text": [
      "Bot >>> Я — жена президента США.\n"
     ]
    },
    {
     "name": "stdin",
     "output_type": "stream",
     "text": [
      "You >>>  Where is the boy?\n"
     ]
    },
    {
     "name": "stdout",
     "output_type": "stream",
     "text": [
      "Bot >>> Мальчик с фермы.\n"
     ]
    },
    {
     "name": "stdin",
     "output_type": "stream",
     "text": [
      "You >>>  I feel sad today.\n"
     ]
    },
    {
     "name": "stdout",
     "output_type": "stream",
     "text": [
      "Bot >>> Я чувствую себя хорошо сегодня.\n"
     ]
    },
    {
     "name": "stdin",
     "output_type": "stream",
     "text": [
      "You >>>  What a queer situation!\n"
     ]
    },
    {
     "name": "stdout",
     "output_type": "stream",
     "text": [
      "Bot >>> Это просто замечательно!\n"
     ]
    },
    {
     "name": "stdin",
     "output_type": "stream",
     "text": [
      "You >>>  What are you doing?\n"
     ]
    },
    {
     "name": "stdout",
     "output_type": "stream",
     "text": [
      "Bot >>> Я хочу, чтобы вы посмотрели на мой новый дом.\n"
     ]
    },
    {
     "name": "stdin",
     "output_type": "stream",
     "text": [
      "You >>>  stop\n"
     ]
    },
    {
     "name": "stdout",
     "output_type": "stream",
     "text": [
      "chat stopped!\n"
     ]
    }
   ],
   "source": [
    "dialog = main(init_context=init_context)"
   ]
  },
  {
   "cell_type": "code",
   "execution_count": 6,
   "metadata": {},
   "outputs": [
    {
     "name": "stdout",
     "output_type": "stream",
     "text": [
      "Он: The monkey is on the tree.\n",
      "Она: Мартышка на дереве.\n",
      "Он: My aunt's pen is on the table.\n",
      "Она: Ручка моей тёти на столе.\n",
      "Он: I am from France.\n",
      "Она: Я из Франции.\n",
      "Он: My name is Valeriy.\n",
      "Она:Моя фамилия Валерьян.\n",
      "Он: I am from Saint-Petersburg, Russia.\n",
      "Она:I am from Russia.\n",
      "Он: I like to eat apples.\n",
      "Она:Я люблю яблоки.\n",
      "Он: Ich komme aus Deutchland.\n",
      "Она:Я люблю немцев.\n",
      "Он: Who is the president of the United States?\n",
      "Она:Я — жена президента США.\n",
      "Он: Where is the boy?\n",
      "Она:Мальчик с фермы.\n",
      "Он: I feel sad today.\n",
      "Она:Я чувствую себя хорошо сегодня.\n",
      "Он: What a queer situation!\n",
      "Она:Это просто замечательно!\n",
      "Он: What are you doing?\n",
      "Она:Я хочу, чтобы вы посмотрели на мой новый дом.\n",
      "\n"
     ]
    }
   ],
   "source": [
    "print(dialog)"
   ]
  },
  {
   "cell_type": "code",
   "execution_count": null,
   "metadata": {},
   "outputs": [],
   "source": []
  },
  {
   "cell_type": "code",
   "execution_count": null,
   "metadata": {},
   "outputs": [],
   "source": []
  },
  {
   "cell_type": "code",
   "execution_count": null,
   "metadata": {},
   "outputs": [],
   "source": []
  }
 ],
 "metadata": {
  "kernelspec": {
   "display_name": "Python 3",
   "language": "python",
   "name": "python3"
  },
  "language_info": {
   "codemirror_mode": {
    "name": "ipython",
    "version": 3
   },
   "file_extension": ".py",
   "mimetype": "text/x-python",
   "name": "python",
   "nbconvert_exporter": "python",
   "pygments_lexer": "ipython3",
   "version": "3.7.6"
  }
 },
 "nbformat": 4,
 "nbformat_minor": 4
}
