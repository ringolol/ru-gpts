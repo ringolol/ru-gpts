{
 "cells": [
  {
   "cell_type": "code",
   "execution_count": 1,
   "metadata": {},
   "outputs": [],
   "source": [
    "import torch\n",
    "from transformers import AutoTokenizer, AutoModel, AutoModelWithLMHead"
   ]
  },
  {
   "cell_type": "code",
   "execution_count": 2,
   "metadata": {},
   "outputs": [],
   "source": [
    "tokenizer = AutoTokenizer.from_pretrained(\"sberbank-ai/rugpt3large_based_on_gpt2\")"
   ]
  },
  {
   "cell_type": "code",
   "execution_count": 3,
   "metadata": {},
   "outputs": [],
   "source": [
    "model = AutoModelWithLMHead.from_pretrained(\"sberbank-ai/rugpt3large_based_on_gpt2\")"
   ]
  },
  {
   "cell_type": "code",
   "execution_count": 4,
   "metadata": {},
   "outputs": [],
   "source": [
    "# encode context the generation is conditioned on\n",
    "input_ids = tokenizer.encode('Я люблю гулять со своей собакой', return_tensors='pt')"
   ]
  },
  {
   "cell_type": "code",
   "execution_count": 32,
   "metadata": {},
   "outputs": [],
   "source": [
    "# import json\n",
    "# dictionary = {i: tokenizer.decode(i) for i in range(50256)}\n",
    "\n",
    "# with open('dict.json', 'w', encoding='utf-8') as f:\n",
    "#     f.write(json.dumps(dictionary, ensure_ascii=False, indent=4,))"
   ]
  },
  {
   "cell_type": "code",
   "execution_count": 83,
   "metadata": {},
   "outputs": [],
   "source": [
    "def predict_tokens(s, n=5, l=1, top_k=0, top_p=1., temperature=1.):\n",
    "    # encode context the generation is conditioned on\n",
    "    input_ids = tokenizer.encode(s, return_tensors='pt')\n",
    "    # activate beam search and early_stopping\n",
    "    greedy_output = model.generate(input_ids, max_length=input_ids.shape[1]+l).to('cuda')\n",
    "    beam_outputs = model.generate(\n",
    "        input_ids,  \n",
    "        max_length=input_ids.shape[1]+l, \n",
    "#         num_beams=n, \n",
    "        early_stopping=True,\n",
    "        do_sample=True,\n",
    "        num_return_sequences=n-1,\n",
    "        top_k=top_k,\n",
    "        top_p=top_p,\n",
    "        temperature=temperature\n",
    "    ).to('cuda')\n",
    "\n",
    "    return [tokenizer.decode(beam_output, skip_special_tokens=True)[len(s):].rstrip() for beam_output in torch.cat([greedy_output, beam_outputs], 0)]"
   ]
  },
  {
   "cell_type": "code",
   "execution_count": 84,
   "metadata": {},
   "outputs": [
    {
     "name": "stderr",
     "output_type": "stream",
     "text": [
      "Setting `pad_token_id` to 50256 (first `eos_token_id`) to generate sequence\n",
      "Setting `pad_token_id` to 50256 (first `eos_token_id`) to generate sequence\n"
     ]
    },
    {
     "data": {
      "text/plain": [
       "[' тебя', ' девочек', ' свою', ' тебя', ' Тебя']"
      ]
     },
     "execution_count": 84,
     "metadata": {},
     "output_type": "execute_result"
    }
   ],
   "source": [
    "predict_tokens('Я люблю')"
   ]
  },
  {
   "cell_type": "code",
   "execution_count": 7,
   "metadata": {},
   "outputs": [
    {
     "name": "stderr",
     "output_type": "stream",
     "text": [
      "Setting `pad_token_id` to 50256 (first `eos_token_id`) to generate sequence\n"
     ]
    },
    {
     "name": "stdout",
     "output_type": "stream",
     "text": [
      "Я хочу:\n",
      "----------------------------------------------------------------------------------------------------\n",
      "0: ','\n",
      "1: ' сказать'\n",
      "2: ' быть'\n",
      "3: ' знать'\n",
      "4: ' жить'\n"
     ]
    }
   ],
   "source": [
    "predict_tokens('Я хочу')"
   ]
  },
  {
   "cell_type": "code",
   "execution_count": 8,
   "metadata": {},
   "outputs": [
    {
     "name": "stderr",
     "output_type": "stream",
     "text": [
      "Setting `pad_token_id` to 50256 (first `eos_token_id`) to generate sequence\n"
     ]
    },
    {
     "name": "stdout",
     "output_type": "stream",
     "text": [
      "Он:\n",
      "----------------------------------------------------------------------------------------------------\n",
      "0: ' был'\n",
      "1: ' не'\n",
      "2: ' сказал'\n",
      "3: ','\n",
      "4: ' уже'\n"
     ]
    }
   ],
   "source": [
    "predict_tokens('Он')"
   ]
  },
  {
   "cell_type": "code",
   "execution_count": 9,
   "metadata": {},
   "outputs": [
    {
     "name": "stderr",
     "output_type": "stream",
     "text": [
      "Setting `pad_token_id` to 50256 (first `eos_token_id`) to generate sequence\n"
     ]
    },
    {
     "name": "stdout",
     "output_type": "stream",
     "text": [
      "Hello:\n",
      "----------------------------------------------------------------------------------------------------\n",
      "0: ','\n",
      "1: '!'\n",
      "2: ' World'\n",
      "3: '\\n'\n",
      "4: ' world'\n"
     ]
    }
   ],
   "source": [
    "predict_tokens('Hello')"
   ]
  },
  {
   "cell_type": "code",
   "execution_count": 12,
   "metadata": {},
   "outputs": [
    {
     "name": "stderr",
     "output_type": "stream",
     "text": [
      "Setting `pad_token_id` to 50256 (first `eos_token_id`) to generate sequence\n"
     ]
    },
    {
     "name": "stdout",
     "output_type": "stream",
     "text": [
      "Я хочу:\n",
      "----------------------------------------------------------------------------------------------------\n",
      "0: ', чтобы ты была счастлива.\\n\\n—\\xa0Я счастлива.\\n\\n—\\xa0Я хочу, чтобы ты была счастлива.\\n\\n—\\xa0Я счастлива.\\n\\n—\\xa0Я хочу, чтобы ты была счастлива.\\n\\n—\\xa0Я счастлива'\n",
      "1: ', чтобы ты была счастлива.\\n\\n–\\xa0Я счастлива.\\n\\n–\\xa0Я хочу, чтобы ты была счастлива.\\n\\n–\\xa0Я счастлива.\\n\\n–\\xa0Я хочу, чтобы ты была счастлива.\\n\\n–\\xa0Я счастлива'\n",
      "2: ', чтобы ты была счастлива.\\n\\n—\\xa0Я счастлива.\\n\\n—\\xa0Я хочу, чтобы ты была счастлива.\\n\\n—\\xa0Я счастлива.\\n\\n—\\xa0Я хочу, чтобы ты была счастлива.\\n\\n—\\xa0Я…'\n",
      "3: ', чтобы ты была счастлива.\\n\\n—\\xa0Я счастлива.\\n\\n—\\xa0Я хочу, чтобы ты была счастлива.\\n\\n—\\xa0Я счастлива.\\n\\n—\\xa0Я хочу, чтобы ты была счастлива.\\n\\n—\\xa0Я хочу'\n",
      "4: ', чтобы ты была счастлива.\\n\\n–\\xa0Я счастлива.\\n\\n–\\xa0Я хочу, чтобы ты была счастлива.\\n\\n–\\xa0Я счастлива.\\n\\n–\\xa0Я хочу, чтобы ты была счастлива.\\n\\n–\\xa0Я…'\n"
     ]
    }
   ],
   "source": [
    "predict_tokens('Я хочу', l=50, top_k=10, top_p=0.95) "
   ]
  },
  {
   "cell_type": "code",
   "execution_count": 29,
   "metadata": {},
   "outputs": [
    {
     "name": "stderr",
     "output_type": "stream",
     "text": [
      "Setting `pad_token_id` to 50256 (first `eos_token_id`) to generate sequence\n"
     ]
    },
    {
     "name": "stdout",
     "output_type": "stream",
     "text": [
      "Вечерело. Проходя мимо старого засаленого кабака я вдруг:\n",
      "----------------------------------------------------------------------------------------------------\n",
      "0:  поймал себя на мысли, что я не хочу выпить в этом захолустье, и это желание почему-то мне понравилось.\n",
      "\n",
      "Проходя мимо какого-то грязного здания я остановился и подумал, что неплохо было бы помыться, как вдруг\n",
      "1:  услышал скрип калитки, и увидел на ней силуэт. Это была женщина. Я быстро завернул за угол и увидел ее. Женщина была босая и в одной рубашке. Я увидел, как она сняла с головы свою соломенную шляпу, отбросила ее\n",
      "2:  вспомнил:\n",
      "- Ребята, а у Вас ничего не найдется выпить?\n",
      "В ответ мне был гробовой взгляд.\n",
      "Я тогда понял, что мне и здесь не рады.\n",
      "В этот момент в кабаке появились люди в чёрных плащах.\n",
      "3:  заметил, что в окне зажигается свет и кто-то выходит на улицу. Вскочив на свой велосипед я помчался на свет и через пару минут увидел того самого бродягу, который вышел за мной. Я его окликнул, но тот не обратил на меня\n",
      "4:  ощутил, что в моем нутре что-то дрогнуло. Я остановился, посмотрел под ноги и не увидел там ничего.\n",
      "\n",
      "В это время по улице проехала карета с гербом Российской Империи, и я снова понял, что что\n"
     ]
    }
   ],
   "source": [
    "predict_tokens('Вечерело. Проходя мимо старого засаленого кабака я вдруг', l=50, top_k=50, top_p=0.95, n=5)"
   ]
  },
  {
   "cell_type": "code",
   "execution_count": 35,
   "metadata": {},
   "outputs": [
    {
     "name": "stderr",
     "output_type": "stream",
     "text": [
      "Setting `pad_token_id` to 50256 (first `eos_token_id`) to generate sequence\n"
     ]
    },
    {
     "name": "stdout",
     "output_type": "stream",
     "text": [
      "Вечерело. Проходя мимо старого засаленого кабака я вдруг:\n",
      "----------------------------------------------------------------------------------------------------\n",
      "0:  подумал: «А может это тот самый? Надо бы наведаться. Только сегодня как-то не хочется, а вдруг это тот самый? Я ведь так ничего о нем не знаю. Хотя, чего это я все о нем? Да и к чему\n",
      "1:  заметил двух проституток, они курили одну сигарету. Одна из них была явно с улицы и в платье, как у шлюхи. Я не мог не подойти, познакомиться, но она сделала мне знак молчать. И я стоял молча, разглядывая ее платье\n",
      "2:  увидел, что на дверях стоит объявление, извещающее о закрытии, да еще и с указанием времени.\n",
      "- Блин, ну неееет… - протянул я и полез в карман за мелочью.\n",
      "- Деньги есть?\n",
      "Я с\n",
      "3:  остановился, и не просто остановился, а замер.\n",
      "\n",
      "Там, за стойкой, кто-то сидел и пил. Я заглянул за стойку и замер от ужаса:\n",
      "\n",
      "— Сюда нельзя, не смотри, — сказала Оля.\n",
      "4:  остановился, будто налетел на стену, и долго пытался вспомнить, где же я видел его. В тот момент, когда я уже хотел было уйти, меня будто кто-то позвал и я оглянулся. Передо мной стоял тот самый незнакомец, который на\n"
     ]
    }
   ],
   "source": [
    "predict_tokens('Вечерело. Проходя мимо старого засаленого кабака я вдруг', l=50, top_k=50, top_p=0.90, n=5) "
   ]
  },
  {
   "cell_type": "code",
   "execution_count": 85,
   "metadata": {},
   "outputs": [
    {
     "name": "stdout",
     "output_type": "stream",
     "text": [
      "\n",
      "\n"
     ]
    },
    {
     "name": "stdin",
     "output_type": "stream",
     "text": [
      " Я иду по\n"
     ]
    },
    {
     "name": "stderr",
     "output_type": "stream",
     "text": [
      "Setting `pad_token_id` to 50256 (first `eos_token_id`) to generate sequence\n",
      "Setting `pad_token_id` to 50256 (first `eos_token_id`) to generate sequence\n"
     ]
    },
    {
     "name": "stdout",
     "output_type": "stream",
     "text": [
      "Я иду по\n",
      "0: улице\n",
      "1: парку\n",
      "2: ки\n",
      "3: городу\n",
      "4: опасной\n"
     ]
    },
    {
     "name": "stdin",
     "output_type": "stream",
     "text": [
      " 1\n"
     ]
    },
    {
     "name": "stderr",
     "output_type": "stream",
     "text": [
      "Setting `pad_token_id` to 50256 (first `eos_token_id`) to generate sequence\n",
      "Setting `pad_token_id` to 50256 (first `eos_token_id`) to generate sequence\n"
     ]
    },
    {
     "name": "stdout",
     "output_type": "stream",
     "text": [
      "Я иду по парку\n",
      "0:,\n",
      "1: Солне\n",
      "2:,\n",
      "3: Сен\n",
      "4: в\n"
     ]
    },
    {
     "name": "stdin",
     "output_type": "stream",
     "text": [
      " 0\n"
     ]
    },
    {
     "name": "stderr",
     "output_type": "stream",
     "text": [
      "Setting `pad_token_id` to 50256 (first `eos_token_id`) to generate sequence\n",
      "Setting `pad_token_id` to 50256 (first `eos_token_id`) to generate sequence\n"
     ]
    },
    {
     "name": "stdout",
     "output_type": "stream",
     "text": [
      "Я иду по парку,\n",
      "0: и\n",
      "1: вспоминаю\n",
      "2:а\n",
      "3: по\n",
      "4: ж\n"
     ]
    },
    {
     "name": "stdin",
     "output_type": "stream",
     "text": [
      " 1\n"
     ]
    },
    {
     "name": "stderr",
     "output_type": "stream",
     "text": [
      "Setting `pad_token_id` to 50256 (first `eos_token_id`) to generate sequence\n",
      "Setting `pad_token_id` to 50256 (first `eos_token_id`) to generate sequence\n"
     ]
    },
    {
     "name": "stdout",
     "output_type": "stream",
     "text": [
      "Я иду по парку, вспоминаю\n",
      "0:,\n",
      "1: мама\n",
      "2:,\n",
      "3:,\n",
      "4: эпиз\n"
     ]
    },
    {
     "name": "stdin",
     "output_type": "stream",
     "text": [
      " 4\n"
     ]
    },
    {
     "name": "stderr",
     "output_type": "stream",
     "text": [
      "Setting `pad_token_id` to 50256 (first `eos_token_id`) to generate sequence\n",
      "Setting `pad_token_id` to 50256 (first `eos_token_id`) to generate sequence\n"
     ]
    },
    {
     "name": "stdout",
     "output_type": "stream",
     "text": [
      "Я иду по парку, вспоминаю эпиз\n",
      "0:оды\n",
      "1:оды\n",
      "2:оды\n",
      "3:оды\n",
      "4:оды\n"
     ]
    },
    {
     "name": "stdin",
     "output_type": "stream",
     "text": [
      " 0\n"
     ]
    },
    {
     "name": "stderr",
     "output_type": "stream",
     "text": [
      "Setting `pad_token_id` to 50256 (first `eos_token_id`) to generate sequence\n",
      "Setting `pad_token_id` to 50256 (first `eos_token_id`) to generate sequence\n"
     ]
    },
    {
     "name": "stdout",
     "output_type": "stream",
     "text": [
      "Я иду по парку, вспоминаю эпизоды\n",
      "0: из\n",
      "1: из\n",
      "2: из\n",
      "3: детства\n",
      "4: из\n"
     ]
    },
    {
     "name": "stdin",
     "output_type": "stream",
     "text": [
      " 1\n"
     ]
    },
    {
     "name": "stderr",
     "output_type": "stream",
     "text": [
      "Setting `pad_token_id` to 50256 (first `eos_token_id`) to generate sequence\n",
      "Setting `pad_token_id` to 50256 (first `eos_token_id`) to generate sequence\n"
     ]
    },
    {
     "name": "stdout",
     "output_type": "stream",
     "text": [
      "Я иду по парку, вспоминаю эпизоды из\n",
      "0: детства\n",
      "1: своей\n",
      "2: работы\n",
      "3: книги\n",
      "4: моей\n"
     ]
    },
    {
     "name": "stdin",
     "output_type": "stream",
     "text": [
      " 0\n"
     ]
    },
    {
     "name": "stderr",
     "output_type": "stream",
     "text": [
      "Setting `pad_token_id` to 50256 (first `eos_token_id`) to generate sequence\n",
      "Setting `pad_token_id` to 50256 (first `eos_token_id`) to generate sequence\n"
     ]
    },
    {
     "name": "stdout",
     "output_type": "stream",
     "text": [
      "Я иду по парку, вспоминаю эпизоды из детства\n",
      "0:,\n",
      "1:.\n",
      "2:.\n",
      "3:,\n",
      "4:.\n"
     ]
    },
    {
     "name": "stdin",
     "output_type": "stream",
     "text": [
      " 1\n"
     ]
    },
    {
     "name": "stderr",
     "output_type": "stream",
     "text": [
      "Setting `pad_token_id` to 50256 (first `eos_token_id`) to generate sequence\n",
      "Setting `pad_token_id` to 50256 (first `eos_token_id`) to generate sequence\n"
     ]
    },
    {
     "name": "stdout",
     "output_type": "stream",
     "text": [
      "Я иду по парку, вспоминаю эпизоды из детства.\n",
      "0:\n",
      "1: Не\n",
      "2:\n",
      "3:На\n",
      "4: Каждый\n"
     ]
    },
    {
     "name": "stdin",
     "output_type": "stream",
     "text": [
      " Эти\n"
     ]
    },
    {
     "name": "stderr",
     "output_type": "stream",
     "text": [
      "Setting `pad_token_id` to 50256 (first `eos_token_id`) to generate sequence\n",
      "Setting `pad_token_id` to 50256 (first `eos_token_id`) to generate sequence\n"
     ]
    },
    {
     "name": "stdout",
     "output_type": "stream",
     "text": [
      "Я иду по парку, вспоминаю эпизоды из детства.Эти\n",
      "0: воспоминания\n",
      "1: кадры\n",
      "2: воспоминания\n",
      "3: так\n",
      "4: же\n"
     ]
    },
    {
     "name": "stdin",
     "output_type": "stream",
     "text": [
      " 2\n"
     ]
    },
    {
     "name": "stderr",
     "output_type": "stream",
     "text": [
      "Setting `pad_token_id` to 50256 (first `eos_token_id`) to generate sequence\n",
      "Setting `pad_token_id` to 50256 (first `eos_token_id`) to generate sequence\n"
     ]
    },
    {
     "name": "stdout",
     "output_type": "stream",
     "text": [
      "Я иду по парку, вспоминаю эпизоды из детства.Эти воспоминания\n",
      "0: не\n",
      "1: довольно\n",
      "2:,\n",
      "3: &\n",
      "4: нака\n"
     ]
    },
    {
     "name": "stdin",
     "output_type": "stream",
     "text": [
      " 1\n"
     ]
    },
    {
     "name": "stderr",
     "output_type": "stream",
     "text": [
      "Setting `pad_token_id` to 50256 (first `eos_token_id`) to generate sequence\n",
      "Setting `pad_token_id` to 50256 (first `eos_token_id`) to generate sequence\n"
     ]
    },
    {
     "name": "stdout",
     "output_type": "stream",
     "text": [
      "Я иду по парку, вспоминаю эпизоды из детства.Эти воспоминания довольно\n",
      "0: яркие\n",
      "1: смеш\n",
      "2: обры\n",
      "3: необычные\n",
      "4: таки\n"
     ]
    },
    {
     "name": "stdin",
     "output_type": "stream",
     "text": [
      " 3\n"
     ]
    },
    {
     "name": "stderr",
     "output_type": "stream",
     "text": [
      "Setting `pad_token_id` to 50256 (first `eos_token_id`) to generate sequence\n",
      "Setting `pad_token_id` to 50256 (first `eos_token_id`) to generate sequence\n"
     ]
    },
    {
     "name": "stdout",
     "output_type": "stream",
     "text": [
      "Я иду по парку, вспоминаю эпизоды из детства.Эти воспоминания довольно необычные\n",
      "0:.\n",
      "1:,\n",
      "2:,\n",
      "3:.\n",
      "4:,\n"
     ]
    },
    {
     "name": "stdin",
     "output_type": "stream",
     "text": [
      " 1\n"
     ]
    },
    {
     "name": "stderr",
     "output_type": "stream",
     "text": [
      "Setting `pad_token_id` to 50256 (first `eos_token_id`) to generate sequence\n",
      "Setting `pad_token_id` to 50256 (first `eos_token_id`) to generate sequence\n"
     ]
    },
    {
     "name": "stdout",
     "output_type": "stream",
     "text": [
      "Я иду по парку, вспоминаю эпизоды из детства.Эти воспоминания довольно необычные,\n",
      "0: но\n",
      "1: несколько\n",
      "2:на\n",
      "3:по\n",
      "4: но\n"
     ]
    },
    {
     "name": "stdin",
     "output_type": "stream",
     "text": [
      " 0\n"
     ]
    },
    {
     "name": "stderr",
     "output_type": "stream",
     "text": [
      "Setting `pad_token_id` to 50256 (first `eos_token_id`) to generate sequence\n",
      "Setting `pad_token_id` to 50256 (first `eos_token_id`) to generate sequence\n"
     ]
    },
    {
     "name": "stdout",
     "output_type": "stream",
     "text": [
      "Я иду по парку, вспоминаю эпизоды из детства.Эти воспоминания довольно необычные, но\n",
      "0: они\n",
      "1: хорошо\n",
      "2: в\n",
      "3: очень\n",
      "4: если\n"
     ]
    },
    {
     "name": "stdin",
     "output_type": "stream",
     "text": [
      " 4\n"
     ]
    },
    {
     "name": "stderr",
     "output_type": "stream",
     "text": [
      "Setting `pad_token_id` to 50256 (first `eos_token_id`) to generate sequence\n",
      "Setting `pad_token_id` to 50256 (first `eos_token_id`) to generate sequence\n"
     ]
    },
    {
     "name": "stdout",
     "output_type": "stream",
     "text": [
      "Я иду по парку, вспоминаю эпизоды из детства.Эти воспоминания довольно необычные, но если\n",
      "0: бы\n",
      "1: подумать\n",
      "2: сделать\n",
      "3: бы\n",
      "4: задуматься\n"
     ]
    },
    {
     "name": "stdin",
     "output_type": "stream",
     "text": [
      " 4\n"
     ]
    },
    {
     "name": "stderr",
     "output_type": "stream",
     "text": [
      "Setting `pad_token_id` to 50256 (first `eos_token_id`) to generate sequence\n",
      "Setting `pad_token_id` to 50256 (first `eos_token_id`) to generate sequence\n"
     ]
    },
    {
     "name": "stdout",
     "output_type": "stream",
     "text": [
      "Я иду по парку, вспоминаю эпизоды из детства.Эти воспоминания довольно необычные, но если задуматься\n",
      "0:,\n",
      "1:,\n",
      "2:,\n",
      "3:,\n",
      "4:,\n"
     ]
    },
    {
     "name": "stdin",
     "output_type": "stream",
     "text": [
      " 0\n"
     ]
    },
    {
     "name": "stderr",
     "output_type": "stream",
     "text": [
      "Setting `pad_token_id` to 50256 (first `eos_token_id`) to generate sequence\n",
      "Setting `pad_token_id` to 50256 (first `eos_token_id`) to generate sequence\n"
     ]
    },
    {
     "name": "stdout",
     "output_type": "stream",
     "text": [
      "Я иду по парку, вспоминаю эпизоды из детства.Эти воспоминания довольно необычные, но если задуматься,\n",
      "0: то\n",
      "1: то\n",
      "2: то\n",
      "3: то\n",
      "4: то\n"
     ]
    },
    {
     "name": "stdin",
     "output_type": "stream",
     "text": [
      " 0\n"
     ]
    },
    {
     "name": "stderr",
     "output_type": "stream",
     "text": [
      "Setting `pad_token_id` to 50256 (first `eos_token_id`) to generate sequence\n",
      "Setting `pad_token_id` to 50256 (first `eos_token_id`) to generate sequence\n"
     ]
    },
    {
     "name": "stdout",
     "output_type": "stream",
     "text": [
      "Я иду по парку, вспоминаю эпизоды из детства.Эти воспоминания довольно необычные, но если задуматься, то\n",
      "0: они\n",
      "1: они\n",
      "2: я\n",
      "3: это\n",
      "4: даже\n"
     ]
    },
    {
     "name": "stdin",
     "output_type": "stream",
     "text": [
      " 3\n"
     ]
    },
    {
     "name": "stderr",
     "output_type": "stream",
     "text": [
      "Setting `pad_token_id` to 50256 (first `eos_token_id`) to generate sequence\n",
      "Setting `pad_token_id` to 50256 (first `eos_token_id`) to generate sequence\n"
     ]
    },
    {
     "name": "stdout",
     "output_type": "stream",
     "text": [
      "Я иду по парку, вспоминаю эпизоды из детства.Эти воспоминания довольно необычные, но если задуматься, то это\n",
      "0: вполне\n",
      "1: ничего\n",
      "2: обычный\n",
      "3: описание\n",
      "4: так\n"
     ]
    },
    {
     "name": "stdin",
     "output_type": "stream",
     "text": [
      " даже\n"
     ]
    },
    {
     "name": "stderr",
     "output_type": "stream",
     "text": [
      "Setting `pad_token_id` to 50256 (first `eos_token_id`) to generate sequence\n",
      "Setting `pad_token_id` to 50256 (first `eos_token_id`) to generate sequence\n"
     ]
    },
    {
     "name": "stdout",
     "output_type": "stream",
     "text": [
      "Я иду по парку, вспоминаю эпизоды из детства.Эти воспоминания довольно необычные, но если задуматься, то этодаже\n",
      "0: очень\n",
      "1:до\n",
      "2: становится\n",
      "3: немного\n",
      "4: может\n"
     ]
    },
    {
     "name": "stdin",
     "output_type": "stream",
     "text": [
      " 0\n"
     ]
    },
    {
     "name": "stderr",
     "output_type": "stream",
     "text": [
      "Setting `pad_token_id` to 50256 (first `eos_token_id`) to generate sequence\n",
      "Setting `pad_token_id` to 50256 (first `eos_token_id`) to generate sequence\n"
     ]
    },
    {
     "name": "stdout",
     "output_type": "stream",
     "text": [
      "Я иду по парку, вспоминаю эпизоды из детства.Эти воспоминания довольно необычные, но если задуматься, то этодаже очень\n",
      "0: даже\n",
      "1: интересно\n",
      "2: верно\n",
      "3: романти\n",
      "4: смеш\n"
     ]
    },
    {
     "name": "stdin",
     "output_type": "stream",
     "text": [
      " 4\n"
     ]
    },
    {
     "name": "stderr",
     "output_type": "stream",
     "text": [
      "Setting `pad_token_id` to 50256 (first `eos_token_id`) to generate sequence\n",
      "Setting `pad_token_id` to 50256 (first `eos_token_id`) to generate sequence\n"
     ]
    },
    {
     "name": "stdout",
     "output_type": "stream",
     "text": [
      "Я иду по парку, вспоминаю эпизоды из детства.Эти воспоминания довольно необычные, но если задуматься, то этодаже очень смеш\n",
      "0:ные\n",
      "1:ные\n",
      "2:ные\n",
      "3:ные\n",
      "4:ные\n"
     ]
    },
    {
     "name": "stdin",
     "output_type": "stream",
     "text": [
      " 0\n"
     ]
    },
    {
     "name": "stderr",
     "output_type": "stream",
     "text": [
      "Setting `pad_token_id` to 50256 (first `eos_token_id`) to generate sequence\n",
      "Setting `pad_token_id` to 50256 (first `eos_token_id`) to generate sequence\n"
     ]
    },
    {
     "name": "stdout",
     "output_type": "stream",
     "text": [
      "Я иду по парку, вспоминаю эпизоды из детства.Эти воспоминания довольно необычные, но если задуматься, то этодаже очень смешные\n",
      "0:.\n",
      "1:.\n",
      "2:.\n",
      "3:.\n",
      "4:.\n"
     ]
    },
    {
     "name": "stdin",
     "output_type": "stream",
     "text": [
      " 0\n"
     ]
    },
    {
     "name": "stderr",
     "output_type": "stream",
     "text": [
      "Setting `pad_token_id` to 50256 (first `eos_token_id`) to generate sequence\n",
      "Setting `pad_token_id` to 50256 (first `eos_token_id`) to generate sequence\n"
     ]
    },
    {
     "name": "stdout",
     "output_type": "stream",
     "text": [
      "Я иду по парку, вспоминаю эпизоды из детства.Эти воспоминания довольно необычные, но если задуматься, то этодаже очень смешные.\n",
      "0:\n",
      "1:Ре\n",
      "2: Вот\n",
      "3: Он\n",
      "4: Мы\n"
     ]
    },
    {
     "name": "stdin",
     "output_type": "stream",
     "text": [
      " stop\n"
     ]
    },
    {
     "name": "stdout",
     "output_type": "stream",
     "text": [
      "Я иду по парку, вспоминаю эпизоды из детства.Эти воспоминания довольно необычные, но если задуматься, то этодаже очень смешные.\n"
     ]
    }
   ],
   "source": [
    "string = ''\n",
    "variants = []\n",
    "n = 5\n",
    "\n",
    "def str2int(s, lim):\n",
    "    i = -1\n",
    "    try:\n",
    "        i = int(s)\n",
    "    except:\n",
    "        pass\n",
    "    return i\n",
    "\n",
    "while True:\n",
    "    print(string)\n",
    "    print('\\n'.join([f'{inx}:{var}' for inx, var in enumerate(variants)]))\n",
    "    msg = input()\n",
    "    \n",
    "    if msg == 'stop':\n",
    "        print(string)\n",
    "        break\n",
    "        \n",
    "    i = str2int(msg, n)\n",
    "    if i != -1:\n",
    "        string += variants[i] if variants else ''\n",
    "    else:\n",
    "        string += msg\n",
    "        \n",
    "    variants = predict_tokens(string)\n",
    "    "
   ]
  },
  {
   "cell_type": "code",
   "execution_count": null,
   "metadata": {},
   "outputs": [],
   "source": [
    "0"
   ]
  }
 ],
 "metadata": {
  "kernelspec": {
   "display_name": "Python 3",
   "language": "python",
   "name": "python3"
  },
  "language_info": {
   "codemirror_mode": {
    "name": "ipython",
    "version": 3
   },
   "file_extension": ".py",
   "mimetype": "text/x-python",
   "name": "python",
   "nbconvert_exporter": "python",
   "pygments_lexer": "ipython3",
   "version": "3.7.6"
  }
 },
 "nbformat": 4,
 "nbformat_minor": 4
}
