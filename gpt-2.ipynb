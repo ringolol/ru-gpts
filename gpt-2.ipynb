{
 "cells": [
  {
   "cell_type": "code",
   "execution_count": 1,
   "metadata": {},
   "outputs": [],
   "source": [
    "import torch\n",
    "from transformers import AutoTokenizer, AutoModel, AutoModelWithLMHead"
   ]
  },
  {
   "cell_type": "code",
   "execution_count": 2,
   "metadata": {},
   "outputs": [],
   "source": [
    "tokenizer = AutoTokenizer.from_pretrained(\"sberbank-ai/rugpt2large\")"
   ]
  },
  {
   "cell_type": "code",
   "execution_count": 3,
   "metadata": {},
   "outputs": [],
   "source": [
    "#AutoModelForCausalLM AutoModelForSeq2SeqLM AutoModelForMaskedLM\n",
    "model = AutoModelWithLMHead.from_pretrained(\"sberbank-ai/rugpt2large\")"
   ]
  },
  {
   "cell_type": "code",
   "execution_count": 4,
   "metadata": {},
   "outputs": [
    {
     "name": "stdout",
     "output_type": "stream",
     "text": [
      "lol\n"
     ]
    }
   ],
   "source": [
    "model.eval()\n",
    "model.to('cuda')\n",
    "print('lol')"
   ]
  },
  {
   "cell_type": "code",
   "execution_count": 5,
   "metadata": {},
   "outputs": [],
   "source": [
    "def generate(text):\n",
    "    # encode context the generation is conditioned on\n",
    "    input_ids = tokenizer.encode(text, return_tensors='pt')\n",
    "    input_ids = input_ids.to('cuda')\n",
    "    # generate text until the output length (which includes the context length) reaches 50\n",
    "    greedy_output = model.generate(input_ids, max_length=400)\n",
    "    return tokenizer.decode(greedy_output[0], skip_special_tokens=True)"
   ]
  },
  {
   "cell_type": "code",
   "execution_count": 11,
   "metadata": {},
   "outputs": [
    {
     "name": "stderr",
     "output_type": "stream",
     "text": [
      "Setting `pad_token_id` to 50256 (first `eos_token_id`) to generate sequence\n"
     ]
    },
    {
     "name": "stdout",
     "output_type": "stream",
     "text": [
      "Где брат твой, Кайн?\n",
      "\n",
      "— Вон там, — Кайн указал на холм, — в лесу.\n",
      "\n",
      "— А ты?\n",
      "\n",
      "— Я? Я здесь.\n",
      "\n",
      "— А где твой брат?\n",
      "\n",
      "— Там, — Кайн указал на холм.\n",
      "\n",
      "— А ты?\n",
      "\n",
      "— Я здесь.\n",
      "\n",
      "— А где твой брат?\n",
      "\n",
      "— Там.\n",
      "\n",
      "— А ты?\n",
      "\n",
      "— Я здесь.\n",
      "\n",
      "— А где твой брат?\n",
      "\n",
      "— Там.\n",
      "\n",
      "— А ты?\n",
      "\n",
      "— Я здесь.\n",
      "\n",
      "— А где твой брат?\n",
      "\n",
      "— Там.\n",
      "\n",
      "— А ты?\n",
      "\n",
      "— Я здесь.\n",
      "\n",
      "— А где твой брат?\n",
      "\n",
      "— Там.\n",
      "\n",
      "— А ты?\n",
      "\n",
      "— Я здесь.\n",
      "\n",
      "— А где твой брат?\n",
      "\n",
      "— Там.\n",
      "\n",
      "— А ты?\n",
      "\n",
      "— Я здесь.\n",
      "\n",
      "— А где твой брат?\n",
      "\n",
      "— Там.\n",
      "\n",
      "— А ты?\n",
      "\n",
      "— Я здесь.\n",
      "\n",
      "— А где твой брат?\n",
      "\n",
      "— Там.\n",
      "\n",
      "— А ты?\n",
      "\n",
      "— Я здесь.\n",
      "\n",
      "— А где твой брат?\n",
      "\n",
      "— Там.\n",
      "\n",
      "— А ты?\n",
      "\n",
      "— Я здесь.\n",
      "\n",
      "— А где твой брат?\n",
      "\n",
      "— Там.\n",
      "\n",
      "— А ты?\n",
      "\n",
      "— Я здесь.\n",
      "\n",
      "— А где твой брат?\n",
      "\n",
      "— Там.\n",
      "\n",
      "— А ты?\n",
      "\n",
      "— Я здесь.\n",
      "\n",
      "— А где твой брат?\n",
      "\n",
      "— Там.\n",
      "\n",
      "— А ты?\n",
      "\n",
      "— Я здесь.\n"
     ]
    }
   ],
   "source": [
    "s_start = '''Пётр I Алексеевич, прозванный Великим  — последний царь всея Руси (с 1682 года) и первый Император Всероссийский (с 1721 года). Представитель династии Романовых. Был провозглашён царём в 10-летнем возрасте, стал править самостоятельно с 1689 года. Формальным соправителем Петра был его брат Иван (до своей смерти в 1696 году). С юных лет проявляя интерес к наукам и заграничному образу жизни, '''\n",
    "s_start2 = '''Пётр I Алексеевич, прозванный Великим, Представитель династии Романовых. Был провозглашён царём в 10-летнем возрасте '''\n",
    "s_start3 = '''Бразильские ученые открыли редкий вид карликовых единорогов, обитающих на западе Ютландии'''\n",
    "s_start4 = '''Тише едешь,'''\n",
    "s_start5 = '''И тогда мы сбросили атомную бомбу'''\n",
    "s_start6 = '''Где брат твой, Кайн?'''\n",
    "s = generate(s_start6)\n",
    "print(s)"
   ]
  },
  {
   "cell_type": "code",
   "execution_count": null,
   "metadata": {},
   "outputs": [],
   "source": []
  }
 ],
 "metadata": {
  "kernelspec": {
   "display_name": "Python 3",
   "language": "python",
   "name": "python3"
  },
  "language_info": {
   "codemirror_mode": {
    "name": "ipython",
    "version": 3
   },
   "file_extension": ".py",
   "mimetype": "text/x-python",
   "name": "python",
   "nbconvert_exporter": "python",
   "pygments_lexer": "ipython3",
   "version": "3.7.6"
  }
 },
 "nbformat": 4,
 "nbformat_minor": 4
}
